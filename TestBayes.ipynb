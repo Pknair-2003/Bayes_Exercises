{
 "cells": [
  {
   "cell_type": "markdown",
   "metadata": {},
   "source": [
    "print(\"hello\")\n"
   ]
  },
  {
   "cell_type": "code",
   "execution_count": 26,
   "metadata": {},
   "outputs": [],
   "source": [
    "class Bayes():\n",
    "    def __init__(self,peaches,plums,strawbs,fruits):\n",
    "        self.peaches=peaches #number of peaches\n",
    "        self.plums=plums #number of plums\n",
    "        self.strawbs=strawbs #number of strawbs\n",
    "        self.fruits=self.peaches+self.strawbs+self.plums+fruits\n",
    "\n",
    "\n",
    "    def total_fruit(self):\n",
    "        return self.fruits\n",
    "    def total_pruits(self):\n",
    "        self.peaches=new_pruits\n",
    "        self.plums=1-new_pruits"
   ]
  },
  {
   "cell_type": "code",
   "execution_count": 29,
   "metadata": {},
   "outputs": [],
   "source": [
    "test2=Bayes(4,5,6,6)"
   ]
  },
  {
   "cell_type": "code",
   "execution_count": 63,
   "metadata": {},
   "outputs": [
    {
     "ename": "AttributeError",
     "evalue": "'Bayes' object has no attribute 'total_pruits'",
     "output_type": "error",
     "traceback": [
      "\u001b[0;31m---------------------------------------------------------------------------\u001b[0m",
      "\u001b[0;31mAttributeError\u001b[0m                            Traceback (most recent call last)",
      "Cell \u001b[0;32mIn[63], line 2\u001b[0m\n\u001b[1;32m      1\u001b[0m test1\u001b[38;5;241m=\u001b[39m Bayes(\u001b[38;5;241m4\u001b[39m,\u001b[38;5;241m5\u001b[39m,\u001b[38;5;241m6\u001b[39m,\u001b[38;5;241m6\u001b[39m)\n\u001b[0;32m----> 2\u001b[0m \u001b[38;5;28mprint\u001b[39m(\u001b[43mtest1\u001b[49m\u001b[38;5;241;43m.\u001b[39;49m\u001b[43mtotal_pruits\u001b[49m())\n",
      "\u001b[0;31mAttributeError\u001b[0m: 'Bayes' object has no attribute 'total_pruits'"
     ]
    }
   ],
   "source": [
    "test1= Bayes(4,5,6,6)\n",
    "print(test1.total_pruits())"
   ]
  },
  {
   "cell_type": "code",
   "execution_count": 48,
   "metadata": {},
   "outputs": [],
   "source": [
    "class Bayes():\n",
    "    def __init__(self,percentage_farmers, percentage_librarians, prob_shy_farmer, prob_shy_librarian):\n",
    "        self.percentage_farmers=percentage_farmers\n",
    "        self.percentage_librarians=percentage_librarians\n",
    "        self.prob_shy_farmer=prob_shy_farmer\n",
    "        self.prob_shy_librarian=prob_shy_librarian\n",
    "        self.total_prob_shy= self.percentage_farmers*self.prob_shy_farmer+self.percentage_librarians*self.prob_shy_librarian\n",
    "    \n",
    "    def prob_steve_shy_librarian(self):\n",
    "        return self.percentage_librarians*self.prob_shy_librarian/self.total_prob_shy\n",
    "    \n",
    "    def prob_steve_shy_farmer(self):\n",
    "        return self.percentage_farmers*self.prob_shy_farmer/self.total_prob_shy"
   ]
  },
  {
   "cell_type": "code",
   "execution_count": 66,
   "metadata": {},
   "outputs": [
    {
     "name": "stdout",
     "output_type": "stream",
     "text": [
      "here's the total probability of being shy whether you're a farmer or librarian: 0.1144 ;yeah basically yeah\n"
     ]
    }
   ],
   "source": [
    "test1= Bayes(0.952,0.048,0.1,0.4)\n",
    "print(\"here's the total probability of being shy whether you're a farmer or librarian:\",test1.total_prob_shy,';yeah basically yeah')\n"
   ]
  },
  {
   "cell_type": "code",
   "execution_count": 58,
   "metadata": {},
   "outputs": [
    {
     "name": "stdout",
     "output_type": "stream",
     "text": [
      "heres the probability that Steve is a Shy Librarian: 0.16783216783216784\n"
     ]
    }
   ],
   "source": [
    "test2= Bayes(0.952,0.048,0.1,0.4)\n",
    "print(\"heres the probability that Steve is a Shy Librarian:\", test2.prob_steve_shy_librarian())"
   ]
  },
  {
   "cell_type": "code",
   "execution_count": 60,
   "metadata": {},
   "outputs": [
    {
     "name": "stdout",
     "output_type": "stream",
     "text": [
      "heres the probability that Steve is a Shy Farmer: 0.8321678321678322\n"
     ]
    }
   ],
   "source": [
    "test3= Bayes(0.952,0.048,0.1,0.4)\n",
    "print(\"heres the probability that Steve is a Shy Farmer:\",test3.prob_steve_shy_farmer())"
   ]
  },
  {
   "cell_type": "code",
   "execution_count": 135,
   "metadata": {},
   "outputs": [],
   "source": [
    "class Bayes():\n",
    "    def __init__(self,recall,precision,P,N): \n",
    "        self.recall=recall\n",
    "        self.precision=precision\n",
    "        self.P=P\n",
    "        self.N=N\n",
    "        self.TP=self.P*self.recall\n",
    "        self.FP=self.TP/self.precision-self.TP\n",
    "\n",
    "    def FPR(self):\n",
    "        return self.FP/self.N\n",
    "    \n",
    "    def TPR(self):\n",
    "        return self.recall\n",
    "        \n",
    "        \n",
    "\n",
    "        \n",
    "        \n"
   ]
  },
  {
   "cell_type": "code",
   "execution_count": 137,
   "metadata": {},
   "outputs": [
    {
     "name": "stdout",
     "output_type": "stream",
     "text": [
      "0.87\n"
     ]
    }
   ],
   "source": [
    "test1 = Bayes(0.87,0.83,190,6300)\n",
    "print(test1.TPR())"
   ]
  },
  {
   "cell_type": "code",
   "execution_count": 116,
   "metadata": {},
   "outputs": [
    {
     "name": "stdout",
     "output_type": "stream",
     "text": [
      "165.3\n"
     ]
    }
   ],
   "source": [
    "test2 = Bayes(0.87,0.83,190,6300)\n",
    "print(test2.TP)"
   ]
  },
  {
   "cell_type": "code",
   "execution_count": 119,
   "metadata": {},
   "outputs": [
    {
     "name": "stdout",
     "output_type": "stream",
     "text": [
      "33.8566265060241\n"
     ]
    }
   ],
   "source": [
    "test3=Bayes(0.87,0.83,190,6300)\n",
    "print(test3.FP)"
   ]
  },
  {
   "cell_type": "code",
   "execution_count": 133,
   "metadata": {},
   "outputs": [
    {
     "name": "stdout",
     "output_type": "stream",
     "text": [
      "0.0053740676993689045\n"
     ]
    }
   ],
   "source": [
    "test4=Bayes(0.87,0.83,190,6300)\n",
    "print(test4.FPR())"
   ]
  },
  {
   "cell_type": "code",
   "execution_count": 1,
   "metadata": {},
   "outputs": [
    {
     "name": "stdout",
     "output_type": "stream",
     "text": [
      "1\n",
      "1\n"
     ]
    }
   ],
   "source": [
    "stp_function= lambda x: 1 if x>=0 else 0\n",
    "print(stp_function(10))\n",
    "\n",
    "def stp_fn(x):\n",
    "    if x>=0:\n",
    "        return 1\n",
    "    else:\n",
    "        return 0\n",
    "print(stp_fn(10))\n",
    "\n",
    "\n",
    "\n",
    "\n"
   ]
  },
  {
   "cell_type": "code",
   "execution_count": 3,
   "metadata": {},
   "outputs": [],
   "source": [
    "import numpy as np"
   ]
  },
  {
   "cell_type": "code",
   "execution_count": 11,
   "metadata": {},
   "outputs": [
    {
     "name": "stdout",
     "output_type": "stream",
     "text": [
      "[  4   8 132  16  20 264  28]\n"
     ]
    }
   ],
   "source": [
    "list1=[1,2,33,4,5,66,7]\n",
    "list2=np.array(list1)\n",
    "print(list2*4)\n",
    "\n"
   ]
  },
  {
   "cell_type": "code",
   "execution_count": 3,
   "metadata": {},
   "outputs": [],
   "source": [
    "import matplotlib.pyplot as plt"
   ]
  },
  {
   "cell_type": "code",
   "execution_count": 5,
   "metadata": {},
   "outputs": [],
   "source": [
    "import numpy as np"
   ]
  },
  {
   "cell_type": "code",
   "execution_count": 9,
   "metadata": {},
   "outputs": [
    {
     "data": {
      "image/png": "[encoded data removed]",
      "text/plain": [
       "<Figure size 640x480 with 1 Axes>"
      ]
     },
     "metadata": {},
     "output_type": "display_data"
    }
   ],
   "source": [
    "#stp_fun=lambda x: 1 ifif x>=0 else 0\n",
    "stp_fun=lambda x: x>0 #returns true if x>0 and false when x<0 (boolean operator format)\n",
    "x=np.linspace(-10,10,100)\n",
    "z=stp_fun(x)\n",
    "plt.plot(x,z)\n",
    "plt.ylim(-.9,1.9) #this is a common convention to plot between 0 and 1 but this provides a bit more space and is standard practice\n",
    "plt.show()\n",
    "\n",
    "\n"
   ]
  },
  {
   "cell_type": "code",
   "execution_count": 51,
   "metadata": {},
   "outputs": [
    {
     "data": {
      "text/plain": [
       "[(array([0, 0, 1]), 1),\n",
       " (array([0, 1, 1]), 0),\n",
       " (array([1, 0, 1]), 0),\n",
       " (array([1, 1, 1]), 0)]"
      ]
     },
     "execution_count": 51,
     "metadata": {},
     "output_type": "execute_result"
    }
   ],
   "source": [
    "training_data = [\n",
    "        (np.array([0,0,1]), 1),\n",
    "        (np.array([0,1,1]), 0),\n",
    "        (np.array([1,0,1]), 0),\n",
    "        (np.array([1,1,1]), 0),\n",
    "    ]\n",
    "training_data"
   ]
  },
  {
   "cell_type": "code",
   "execution_count": 21,
   "metadata": {},
   "outputs": [],
   "source": [
    "import pandas as pd"
   ]
  },
  {
   "cell_type": "code",
   "execution_count": null,
   "metadata": {},
   "outputs": [
    {
     "data": {
      "text/html": [
       "<div>\n",
       "<style scoped>\n",
       "    .dataframe tbody tr th:only-of-type {\n",
       "        vertical-align: middle;\n",
       "    }\n",
       "\n",
       "    .dataframe tbody tr th {\n",
       "        vertical-align: top;\n",
       "    }\n",
       "\n",
       "    .dataframe thead th {\n",
       "        text-align: right;\n",
       "    }\n",
       "</style>\n",
       "<table border=\"1\" class=\"dataframe\">\n",
       "  <thead>\n",
       "    <tr style=\"text-align: right;\">\n",
       "      <th></th>\n",
       "      <th>A</th>\n",
       "      <th>B</th>\n",
       "      <th>C</th>\n",
       "      <th>Dog</th>\n",
       "      <th>Sum</th>\n",
       "    </tr>\n",
       "  </thead>\n",
       "  <tbody>\n",
       "    <tr>\n",
       "      <th>0</th>\n",
       "      <td>1</td>\n",
       "      <td>10</td>\n",
       "      <td>100</td>\n",
       "      <td>1000</td>\n",
       "      <td>1111</td>\n",
       "    </tr>\n",
       "    <tr>\n",
       "      <th>1</th>\n",
       "      <td>2</td>\n",
       "      <td>20</td>\n",
       "      <td>200</td>\n",
       "      <td>2000</td>\n",
       "      <td>2222</td>\n",
       "    </tr>\n",
       "    <tr>\n",
       "      <th>2</th>\n",
       "      <td>3</td>\n",
       "      <td>30</td>\n",
       "      <td>300</td>\n",
       "      <td>3000</td>\n",
       "      <td>3333</td>\n",
       "    </tr>\n",
       "  </tbody>\n",
       "</table>\n",
       "</div>"
      ],
      "text/plain": [
       "   A   B    C   Dog   Sum\n",
       "0  1  10  100  1000  1111\n",
       "1  2  20  200  2000  2222\n",
       "2  3  30  300  3000  3333"
      ]
     },
     "execution_count": 49,
     "metadata": {},
     "output_type": "execute_result"
    }
   ],
   "source": [
    "df = pd.DataFrame({\n",
    "    'A':[1,2,3],\n",
    "    'B':[10,20,30],\n",
    "    'C':[100,200,300]\n",
    "})\n",
    "df['Dog']=[1000,2000,3000]\n",
    "df\n",
    "df['Sum']=df.apply(lambda row: row['A']+row['B']+row['C']+row['Dog'], axis=1) #commenting this out removes the 6666 from the df.apply(sum)\n",
    "df\n",
    "\n"
   ]
  },
  {
   "cell_type": "code",
   "execution_count": 48,
   "metadata": {},
   "outputs": [
    {
     "data": {
      "text/plain": [
       "A         6\n",
       "B        60\n",
       "C       600\n",
       "Dog    6000\n",
       "dtype: int64"
      ]
     },
     "execution_count": 48,
     "metadata": {},
     "output_type": "execute_result"
    }
   ],
   "source": [
    "df.apply(sum)"
   ]
  },
  {
   "cell_type": "code",
   "execution_count": null,
   "metadata": {},
   "outputs": [
    {
     "data": {
      "text/plain": [
       "[24, 4, 3, 5]"
      ]
     },
     "execution_count": 32,
     "metadata": {},
     "output_type": "execute_result"
    }
   ],
   "source": [
    "list3=[1,2,3,24,4,3,5,5,36,4,7,74,7] #splicing example\n",
    "list3[3:7]"
   ]
  },
  {
   "cell_type": "code",
   "execution_count": 24,
   "metadata": {},
   "outputs": [
    {
     "data": {
      "text/plain": [
       "<function matplotlib.pyplot.show(close=None, block=None)>"
      ]
     },
     "execution_count": 24,
     "metadata": {},
     "output_type": "execute_result"
    },
    {
     "data": {
      "image/png": "[encoded data removed]",
      "text/plain": [
       "<Figure size 640x480 with 1 Axes>"
      ]
     },
     "metadata": {},
     "output_type": "display_data"
    }
   ],
   "source": [
    "#sin function plotting\n",
    "n_pts=200\n",
    "x=np.linspace(-2*np.pi,2*np.pi,n_pts)\n",
    "y=np.sin(x)\n",
    "z=np.cos(x)\n",
    "\n",
    "plt.plot(x,y, label='sin')\n",
    "plt.plot(x,z, label='cos')\n",
    "#plt.plot(x,u, label='exp')\n",
    "plt.legend()\n",
    "plt.show\n"
   ]
  },
  {
   "cell_type": "code",
   "execution_count": 35,
   "metadata": {},
   "outputs": [
    {
     "data": {
      "image/png": "[encoded data removed]",
      "text/plain": [
       "<Figure size 640x480 with 1 Axes>"
      ]
     },
     "metadata": {},
     "output_type": "display_data"
    }
   ],
   "source": [
    "no_pts=np.random.rand(100,2)\n",
    "x=np.linspace(-10,10)\n",
    "z=stp_fun(x)\n",
    "plt.plot(x,z, label='Step_Function', color='green')\n",
    "plt.ylim(-0.1,1.10)\n",
    "plt.legend()\n",
    "plt.show()"
   ]
  },
  {
   "cell_type": "code",
   "execution_count": null,
   "metadata": {},
   "outputs": [],
   "source": []
  }
 ],
 "metadata": {
  "kernelspec": {
   "display_name": "Python 3",
   "language": "python",
   "name": "python3"
  },
  "language_info": {
   "codemirror_mode": {
    "name": "ipython",
    "version": 3
   },
   "file_extension": ".py",
   "mimetype": "text/x-python",
   "name": "python",
   "nbconvert_exporter": "python",
   "pygments_lexer": "ipython3",
   "version": "3.11.11"
  }
 },
 "nbformat": 4,
 "nbformat_minor": 2
}
