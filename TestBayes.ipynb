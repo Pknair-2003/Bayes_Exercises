{
 "cells": [
  {
   "cell_type": "markdown",
   "metadata": {},
   "source": [
    "print(\"hello\")\n"
   ]
  },
  {
   "cell_type": "code",
   "execution_count": 26,
   "metadata": {},
   "outputs": [],
   "source": [
    "class Bayes():\n",
    "    def __init__(self,peaches,plums,strawbs,fruits):\n",
    "        self.peaches=peaches #number of peaches\n",
    "        self.plums=plums #number of plums\n",
    "        self.strawbs=strawbs #number of strawbs\n",
    "        self.fruits=self.peaches+self.strawbs+self.plums+fruits\n",
    "\n",
    "\n",
    "    def total_fruit(self):\n",
    "        return self.fruits\n",
    "    def total_pruits(self,new_pruits):\n",
    "        self.peaches=new_pruits\n",
    "        self.plums=1-new_pruits"
   ]
  },
  {
   "cell_type": "code",
   "execution_count": 29,
   "metadata": {},
   "outputs": [],
   "source": [
    "test2=Bayes(4,5,6,6)"
   ]
  },
  {
   "cell_type": "code",
   "execution_count": 30,
   "metadata": {},
   "outputs": [
    {
     "ename": "AttributeError",
     "evalue": "'Bayes' object has no attribute 'berries'",
     "output_type": "error",
     "traceback": [
      "\u001b[0;31m---------------------------------------------------------------------------\u001b[0m",
      "\u001b[0;31mAttributeError\u001b[0m                            Traceback (most recent call last)",
      "Cell \u001b[0;32mIn[30], line 2\u001b[0m\n\u001b[1;32m      1\u001b[0m test1\u001b[38;5;241m=\u001b[39m Bayes(\u001b[38;5;241m4\u001b[39m,\u001b[38;5;241m5\u001b[39m,\u001b[38;5;241m6\u001b[39m,\u001b[38;5;241m6\u001b[39m)\n\u001b[0;32m----> 2\u001b[0m \u001b[38;5;28mprint\u001b[39m(\u001b[43mtest1\u001b[49m\u001b[38;5;241;43m.\u001b[39;49m\u001b[43mberries\u001b[49m())\n",
      "\u001b[0;31mAttributeError\u001b[0m: 'Bayes' object has no attribute 'berries'"
     ]
    }
   ],
   "source": [
    "test1= Bayes(4,5,6,6)\n",
    "print(test1.berries())"
   ]
  },
  {
   "cell_type": "code",
   "execution_count": 48,
   "metadata": {},
   "outputs": [],
   "source": [
    "class Bayes():\n",
    "    def __init__(self,percentage_farmers, percentage_librarians, prob_shy_farmer, prob_shy_librarian):\n",
    "        self.percentage_farmers=percentage_farmers\n",
    "        self.percentage_librarians=percentage_librarians\n",
    "        self.prob_shy_farmer=prob_shy_farmer\n",
    "        self.prob_shy_librarian=prob_shy_librarian\n",
    "        self.total_prob_shy= self.percentage_farmers*self.prob_shy_farmer+self.percentage_librarians*self.prob_shy_librarian\n",
    "    \n",
    "    def prob_steve_shy_librarian(self):\n",
    "        return self.percentage_librarians*self.prob_shy_librarian/self.total_prob_shy\n",
    "    \n",
    "    def prob_steve_shy_farmer(self):\n",
    "        return self.percentage_farmers*self.prob_shy_farmer/self.total_prob_shy"
   ]
  },
  {
   "cell_type": "code",
   "execution_count": 49,
   "metadata": {},
   "outputs": [
    {
     "name": "stdout",
     "output_type": "stream",
     "text": [
      "0.1144\n"
     ]
    }
   ],
   "source": [
    "test1= Bayes(0.952,0.048,0.1,0.4)\n",
    "print(test1.total_prob_shy)\n"
   ]
  },
  {
   "cell_type": "code",
   "execution_count": 50,
   "metadata": {},
   "outputs": [
    {
     "name": "stdout",
     "output_type": "stream",
     "text": [
      "0.16783216783216784\n"
     ]
    }
   ],
   "source": [
    "test2= Bayes(0.952,0.048,0.1,0.4)\n",
    "print(test2.prob_steve_shy_librarian())"
   ]
  },
  {
   "cell_type": "code",
   "execution_count": 51,
   "metadata": {},
   "outputs": [
    {
     "name": "stdout",
     "output_type": "stream",
     "text": [
      "0.8321678321678322\n"
     ]
    }
   ],
   "source": [
    "test3= Bayes(0.952,0.048,0.1,0.4)\n",
    "print(test3.prob_steve_shy_farmer())"
   ]
  }
 ],
 "metadata": {
  "kernelspec": {
   "display_name": "Python 3",
   "language": "python",
   "name": "python3"
  },
  "language_info": {
   "codemirror_mode": {
    "name": "ipython",
    "version": 3
   },
   "file_extension": ".py",
   "mimetype": "text/x-python",
   "name": "python",
   "nbconvert_exporter": "python",
   "pygments_lexer": "ipython3",
   "version": "3.11.11"
  }
 },
 "nbformat": 4,
 "nbformat_minor": 2
}
