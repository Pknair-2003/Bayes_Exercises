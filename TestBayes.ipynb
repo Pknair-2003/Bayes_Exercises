{
 "cells": [
  {
   "cell_type": "markdown",
   "metadata": {},
   "source": [
    "print(\"hello\")\n"
   ]
  },
  {
   "cell_type": "code",
   "execution_count": 26,
   "metadata": {},
   "outputs": [],
   "source": [
    "class Bayes():\n",
    "    def __init__(self,peaches,plums,strawbs,fruits):\n",
    "        self.peaches=peaches #number of peaches\n",
    "        self.plums=plums #number of plums\n",
    "        self.strawbs=strawbs #number of strawbs\n",
    "        self.fruits=self.peaches+self.strawbs+self.plums+fruits\n",
    "\n",
    "\n",
    "    def total_fruit(self):\n",
    "        return self.fruits\n",
    "    def total_pruits(self,new_pruits):\n",
    "        self.peaches=new_pruits\n",
    "        self.plums=1-new_pruits"
   ]
  },
  {
   "cell_type": "code",
   "execution_count": null,
   "metadata": {},
   "outputs": [],
   "source": [
    "test2=Bayes(4,5,6,6)"
   ]
  },
  {
   "cell_type": "code",
   "execution_count": 25,
   "metadata": {},
   "outputs": [
    {
     "name": "stdout",
     "output_type": "stream",
     "text": [
      "21\n"
     ]
    }
   ],
   "source": [
    "test1= Bayes(4,5,6,6)\n",
    "print(test1.berries())"
   ]
  }
 ],
 "metadata": {
  "kernelspec": {
   "display_name": "Python 3",
   "language": "python",
   "name": "python3"
  },
  "language_info": {
   "codemirror_mode": {
    "name": "ipython",
    "version": 3
   },
   "file_extension": ".py",
   "mimetype": "text/x-python",
   "name": "python",
   "nbconvert_exporter": "python",
   "pygments_lexer": "ipython3",
   "version": "3.11.11"
  }
 },
 "nbformat": 4,
 "nbformat_minor": 2
}
