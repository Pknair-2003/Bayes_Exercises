{
 "cells": [
  {
   "cell_type": "markdown",
   "metadata": {},
   "source": [
    "print(\"hello\")\n"
   ]
  },
  {
   "cell_type": "code",
   "execution_count": 26,
   "metadata": {},
   "outputs": [],
   "source": [
    "class Bayes():\n",
    "    def __init__(self,peaches,plums,strawbs,fruits):\n",
    "        self.peaches=peaches #number of peaches\n",
    "        self.plums=plums #number of plums\n",
    "        self.strawbs=strawbs #number of strawbs\n",
    "        self.fruits=self.peaches+self.strawbs+self.plums+fruits\n",
    "\n",
    "\n",
    "    def total_fruit(self):\n",
    "        return self.fruits\n",
    "    def total_pruits(self):\n",
    "        self.peaches=new_pruits\n",
    "        self.plums=1-new_pruits"
   ]
  },
  {
   "cell_type": "code",
   "execution_count": 29,
   "metadata": {},
   "outputs": [],
   "source": [
    "test2=Bayes(4,5,6,6)"
   ]
  },
  {
   "cell_type": "code",
   "execution_count": 63,
   "metadata": {},
   "outputs": [
    {
     "ename": "AttributeError",
     "evalue": "'Bayes' object has no attribute 'total_pruits'",
     "output_type": "error",
     "traceback": [
      "\u001b[0;31m---------------------------------------------------------------------------\u001b[0m",
      "\u001b[0;31mAttributeError\u001b[0m                            Traceback (most recent call last)",
      "Cell \u001b[0;32mIn[63], line 2\u001b[0m\n\u001b[1;32m      1\u001b[0m test1\u001b[38;5;241m=\u001b[39m Bayes(\u001b[38;5;241m4\u001b[39m,\u001b[38;5;241m5\u001b[39m,\u001b[38;5;241m6\u001b[39m,\u001b[38;5;241m6\u001b[39m)\n\u001b[0;32m----> 2\u001b[0m \u001b[38;5;28mprint\u001b[39m(\u001b[43mtest1\u001b[49m\u001b[38;5;241;43m.\u001b[39;49m\u001b[43mtotal_pruits\u001b[49m())\n",
      "\u001b[0;31mAttributeError\u001b[0m: 'Bayes' object has no attribute 'total_pruits'"
     ]
    }
   ],
   "source": [
    "test1= Bayes(4,5,6,6)\n",
    "print(test1.total_pruits())"
   ]
  },
  {
   "cell_type": "code",
   "execution_count": 48,
   "metadata": {},
   "outputs": [],
   "source": [
    "class Bayes():\n",
    "    def __init__(self,percentage_farmers, percentage_librarians, prob_shy_farmer, prob_shy_librarian):\n",
    "        self.percentage_farmers=percentage_farmers\n",
    "        self.percentage_librarians=percentage_librarians\n",
    "        self.prob_shy_farmer=prob_shy_farmer\n",
    "        self.prob_shy_librarian=prob_shy_librarian\n",
    "        self.total_prob_shy= self.percentage_farmers*self.prob_shy_farmer+self.percentage_librarians*self.prob_shy_librarian\n",
    "    \n",
    "    def prob_steve_shy_librarian(self):\n",
    "        return self.percentage_librarians*self.prob_shy_librarian/self.total_prob_shy\n",
    "    \n",
    "    def prob_steve_shy_farmer(self):\n",
    "        return self.percentage_farmers*self.prob_shy_farmer/self.total_prob_shy"
   ]
  },
  {
   "cell_type": "code",
   "execution_count": 66,
   "metadata": {},
   "outputs": [
    {
     "name": "stdout",
     "output_type": "stream",
     "text": [
      "here's the total probability of being shy whether you're a farmer or librarian: 0.1144 ;yeah basically yeah\n"
     ]
    }
   ],
   "source": [
    "test1= Bayes(0.952,0.048,0.1,0.4)\n",
    "print(\"here's the total probability of being shy whether you're a farmer or librarian:\",test1.total_prob_shy,';yeah basically yeah')\n"
   ]
  },
  {
   "cell_type": "code",
   "execution_count": 58,
   "metadata": {},
   "outputs": [
    {
     "name": "stdout",
     "output_type": "stream",
     "text": [
      "heres the probability that Steve is a Shy Librarian: 0.16783216783216784\n"
     ]
    }
   ],
   "source": [
    "test2= Bayes(0.952,0.048,0.1,0.4)\n",
    "print(\"heres the probability that Steve is a Shy Librarian:\", test2.prob_steve_shy_librarian())"
   ]
  },
  {
   "cell_type": "code",
   "execution_count": 60,
   "metadata": {},
   "outputs": [
    {
     "name": "stdout",
     "output_type": "stream",
     "text": [
      "heres the probability that Steve is a Shy Farmer: 0.8321678321678322\n"
     ]
    }
   ],
   "source": [
    "test3= Bayes(0.952,0.048,0.1,0.4)\n",
    "print(\"heres the probability that Steve is a Shy Farmer:\",test3.prob_steve_shy_farmer())"
   ]
  },
  {
   "cell_type": "code",
   "execution_count": 135,
   "metadata": {},
   "outputs": [],
   "source": [
    "class Bayes():\n",
    "    def __init__(self,recall,precision,P,N): \n",
    "        self.recall=recall\n",
    "        self.precision=precision\n",
    "        self.P=P\n",
    "        self.N=N\n",
    "        self.TP=self.P*self.recall\n",
    "        self.FP=self.TP/self.precision-self.TP\n",
    "\n",
    "    def FPR(self):\n",
    "        return self.FP/self.N\n",
    "    \n",
    "    def TPR(self):\n",
    "        return self.recall\n",
    "        \n",
    "        \n",
    "\n",
    "        \n",
    "        \n"
   ]
  },
  {
   "cell_type": "code",
   "execution_count": 137,
   "metadata": {},
   "outputs": [
    {
     "name": "stdout",
     "output_type": "stream",
     "text": [
      "0.87\n"
     ]
    }
   ],
   "source": [
    "test1 = Bayes(0.87,0.83,190,6300)\n",
    "print(test1.TPR())"
   ]
  },
  {
   "cell_type": "code",
   "execution_count": 116,
   "metadata": {},
   "outputs": [
    {
     "name": "stdout",
     "output_type": "stream",
     "text": [
      "165.3\n"
     ]
    }
   ],
   "source": [
    "test2 = Bayes(0.87,0.83,190,6300)\n",
    "print(test2.TP)"
   ]
  },
  {
   "cell_type": "code",
   "execution_count": 119,
   "metadata": {},
   "outputs": [
    {
     "name": "stdout",
     "output_type": "stream",
     "text": [
      "33.8566265060241\n"
     ]
    }
   ],
   "source": [
    "test3=Bayes(0.87,0.83,190,6300)\n",
    "print(test3.FP)"
   ]
  },
  {
   "cell_type": "code",
   "execution_count": 133,
   "metadata": {},
   "outputs": [
    {
     "name": "stdout",
     "output_type": "stream",
     "text": [
      "0.0053740676993689045\n"
     ]
    }
   ],
   "source": [
    "test4=Bayes(0.87,0.83,190,6300)\n",
    "print(test4.FPR())"
   ]
  }
 ],
 "metadata": {
  "kernelspec": {
   "display_name": "Python 3",
   "language": "python",
   "name": "python3"
  },
  "language_info": {
   "codemirror_mode": {
    "name": "ipython",
    "version": 3
   },
   "file_extension": ".py",
   "mimetype": "text/x-python",
   "name": "python",
   "nbconvert_exporter": "python",
   "pygments_lexer": "ipython3",
   "version": "3.11.11"
  }
 },
 "nbformat": 4,
 "nbformat_minor": 2
}
